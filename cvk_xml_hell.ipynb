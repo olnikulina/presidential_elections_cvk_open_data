{
  "nbformat": 4,
  "nbformat_minor": 0,
  "metadata": {
    "colab": {
      "name": "cvk_xml_hell.ipynb",
      "version": "0.3.2",
      "provenance": []
    },
    "kernelspec": {
      "name": "python3",
      "display_name": "Python 3"
    }
  },
  "cells": [
    {
      "metadata": {
        "id": "_5H7vTRMW2IY",
        "colab_type": "code",
        "colab": {}
      },
      "cell_type": "code",
      "source": [
        "import pandas as pd\n",
        "import numpy as np"
      ],
      "execution_count": 0,
      "outputs": []
    },
    {
      "metadata": {
        "id": "Zr6uYxzLW9yF",
        "colab_type": "text"
      },
      "cell_type": "markdown",
      "source": [
        "імпортуємо бібліотеки, необхідні для читання xml-файлу та конвертації в табличний формат "
      ]
    },
    {
      "metadata": {
        "id": "_MF0lYpTW8F1",
        "colab_type": "code",
        "colab": {}
      },
      "cell_type": "code",
      "source": [
        "import xml.etree.ElementTree as ET\n",
        "import io\n",
        "from lxml import objectify"
      ],
      "execution_count": 0,
      "outputs": []
    },
    {
      "metadata": {
        "id": "VnLHF6dwXORV",
        "colab_type": "text"
      },
      "cell_type": "markdown",
      "source": [
        "розпочнемо з форми 3, що містить інформацію про видатки з виборчого фонду кандидата"
      ]
    },
    {
      "metadata": {
        "id": "GP1D1JeeXHTe",
        "colab_type": "code",
        "colab": {}
      },
      "cell_type": "code",
      "source": [
        "xmlp = ET.XMLParser(encoding=\"Windows-1251\")"
      ],
      "execution_count": 0,
      "outputs": []
    },
    {
      "metadata": {
        "id": "q5zT1RbFYQjK",
        "colab_type": "text"
      },
      "cell_type": "markdown",
      "source": [
        "в якості прикладу візьмемо звіт Д. Добродомова"
      ]
    },
    {
      "metadata": {
        "id": "lt7s9HThZlam",
        "colab_type": "code",
        "colab": {}
      },
      "cell_type": "code",
      "source": [
        "xml = ET.parse('your_directory/ef_load_docx.getformafilein_f27391=2285in_ctypefile=xml', parser=xmlp)"
      ],
      "execution_count": 0,
      "outputs": []
    },
    {
      "metadata": {
        "id": "FL4aUAhYXZKx",
        "colab_type": "code",
        "colab": {}
      },
      "cell_type": "code",
      "source": [
        "root = xml.getroot()"
      ],
      "execution_count": 0,
      "outputs": []
    },
    {
      "metadata": {
        "id": "H2qvpYSBYfL7",
        "colab_type": "text"
      },
      "cell_type": "markdown",
      "source": [
        "поглянемо як виглядає наш файл *(просто чарівно*)"
      ]
    },
    {
      "metadata": {
        "id": "5qRmlWhSYbKu",
        "colab_type": "code",
        "colab": {}
      },
      "cell_type": "code",
      "source": [
        "print(ET.tostring(root, encoding='windows-1251', method='xml').decode('windows-1251'))"
      ],
      "execution_count": 0,
      "outputs": []
    },
    {
      "metadata": {
        "id": "VlMslxsmZuuo",
        "colab_type": "text"
      },
      "cell_type": "markdown",
      "source": [
        "після того як ми склали уявлення про структуру xml-дерева, ми можемо підготувати пусту таблицю з відповідними колонками, в яку пізніше \"дістанемо\" дані з xml-файлу"
      ]
    },
    {
      "metadata": {
        "id": "A-w9v4q8Ym0u",
        "colab_type": "code",
        "colab": {}
      },
      "cell_type": "code",
      "source": [
        "dfcols = ['district','code', 'date', 'number', 'payee_name', 'payee_address', 'payee_edrpou', 'payment_goal', 'amount']"
      ],
      "execution_count": 0,
      "outputs": []
    },
    {
      "metadata": {
        "id": "pGXNT8qeZ_Ru",
        "colab_type": "code",
        "colab": {}
      },
      "cell_type": "code",
      "source": [
        "df = pd.DataFrame(columns=dfcols)"
      ],
      "execution_count": 0,
      "outputs": []
    },
    {
      "metadata": {
        "id": "QRD18BPraJPO",
        "colab_type": "text"
      },
      "cell_type": "markdown",
      "source": [
        "найважливіший момент: \"переносимо\" дані з xml-файлу у табличний формат"
      ]
    },
    {
      "metadata": {
        "id": "IiURfkYMaCAf",
        "colab_type": "code",
        "colab": {}
      },
      "cell_type": "code",
      "source": [
        "def getvalueofnode( node ):\n",
        "    return node.text if (node is not None) and (node.text is not None) else None\n",
        "\n",
        "payments = xml.getroot().findall(\"./rowset/table/payment\")\n",
        "    \n",
        "for payment in payments:\n",
        "    district = payment.find('./district')\n",
        "    code = (payment.find('./code'))\n",
        "    date = (payment.find('./date'))\n",
        "    number = (payment.find('./number'))\n",
        "    payee_name = (payment.find('./payee_name'))\n",
        "    payee_address = (payment.find('./payee_address'))\n",
        "    payee_edrpou = (payment.find('./payee_edrpou'))\n",
        "    payment_goal = (payment.find('./payment_goal'))   \n",
        "    amount = (payment.find('./amount'))\n",
        "    \n",
        "    print()\n",
        "    \n",
        "    df = df.append( pd.Series([getvalueofnode(district), getvalueofnode(code), getvalueofnode(date), getvalueofnode(number), getvalueofnode(payee_name), getvalueofnode(payee_address), getvalueofnode(payee_edrpou), getvalueofnode(payment_goal), getvalueofnode(amount)], index=dfcols) ,ignore_index=True)\n",
        "\n",
        "print(df)"
      ],
      "execution_count": 0,
      "outputs": []
    },
    {
      "metadata": {
        "id": "XL9VdgrqaSPE",
        "colab_type": "text"
      },
      "cell_type": "markdown",
      "source": [
        "зберігаємо отриману табличку у csv-файл"
      ]
    },
    {
      "metadata": {
        "id": "UEATfbYVaR1i",
        "colab_type": "code",
        "colab": {}
      },
      "cell_type": "code",
      "source": [
        "df.to_csv(\"expenses.csv\", index=False)"
      ],
      "execution_count": 0,
      "outputs": []
    }
  ]
}